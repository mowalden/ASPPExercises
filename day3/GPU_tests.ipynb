{
  "nbformat": 4,
  "nbformat_minor": 0,
  "metadata": {
    "colab": {
      "provenance": [],
      "gpuType": "T4"
    },
    "kernelspec": {
      "name": "python3",
      "display_name": "Python 3"
    },
    "language_info": {
      "name": "python"
    },
    "accelerator": "GPU"
  },
  "cells": [
    {
      "cell_type": "code",
      "execution_count": 1,
      "metadata": {
        "colab": {
          "base_uri": "https://localhost:8080/"
        },
        "id": "gMwSrmnvEcrR",
        "outputId": "6aed93ab-bbe9-4095-ce83-b0af3fd9d0c5"
      },
      "outputs": [
        {
          "output_type": "stream",
          "name": "stdout",
          "text": [
            "Thu Feb 22 13:48:06 2024       \n",
            "+---------------------------------------------------------------------------------------+\n",
            "| NVIDIA-SMI 535.104.05             Driver Version: 535.104.05   CUDA Version: 12.2     |\n",
            "|-----------------------------------------+----------------------+----------------------+\n",
            "| GPU  Name                 Persistence-M | Bus-Id        Disp.A | Volatile Uncorr. ECC |\n",
            "| Fan  Temp   Perf          Pwr:Usage/Cap |         Memory-Usage | GPU-Util  Compute M. |\n",
            "|                                         |                      |               MIG M. |\n",
            "|=========================================+======================+======================|\n",
            "|   0  Tesla T4                       Off | 00000000:00:04.0 Off |                    0 |\n",
            "| N/A   55C    P8              10W /  70W |      0MiB / 15360MiB |      0%      Default |\n",
            "|                                         |                      |                  N/A |\n",
            "+-----------------------------------------+----------------------+----------------------+\n",
            "                                                                                         \n",
            "+---------------------------------------------------------------------------------------+\n",
            "| Processes:                                                                            |\n",
            "|  GPU   GI   CI        PID   Type   Process name                            GPU Memory |\n",
            "|        ID   ID                                                             Usage      |\n",
            "|=======================================================================================|\n",
            "|  No running processes found                                                           |\n",
            "+---------------------------------------------------------------------------------------+\n"
          ]
        }
      ],
      "source": [
        "!nvidia-smi"
      ]
    },
    {
      "cell_type": "code",
      "source": [
        "import numpy as np\n",
        "import cupy as cp"
      ],
      "metadata": {
        "id": "JFPqauYuEqTm"
      },
      "execution_count": 2,
      "outputs": []
    },
    {
      "cell_type": "code",
      "source": [
        "A_np = np.arange(1, 16385).reshape(128,128)\n",
        "B_np = np.arange(1, 65537).reshape(256,256)\n",
        "C_np = np.arange(1, 262145).reshape(512, 512)\n",
        "D_np = np.arange(1, 1048577).reshape(1024, 1024)\n",
        "E_np = np.arange(1, 4194305).reshape(2048, 2048)\n",
        "\n",
        "A_cp = cp.arange(1, 16385).reshape(128,128)\n",
        "B_cp = cp.arange(1, 65537).reshape(256,256)\n",
        "C_cp = cp.arange(1, 262145).reshape(512, 512)\n",
        "D_cp = cp.arange(1, 1048577).reshape(1024, 1024)\n",
        "E_cp = cp.arange(1, 4194305).reshape(2048, 2048)"
      ],
      "metadata": {
        "id": "uu5K7aWSE3u8"
      },
      "execution_count": 38,
      "outputs": []
    },
    {
      "cell_type": "code",
      "source": [
        "%timeit np.fft.fft2(A_np)\n",
        "%timeit cp.fft.fft2(A_cp)"
      ],
      "metadata": {
        "colab": {
          "base_uri": "https://localhost:8080/"
        },
        "id": "6y7oE16mF2Iv",
        "outputId": "5735a1cf-663e-4aa8-b10e-ea42a645e945"
      },
      "execution_count": 39,
      "outputs": [
        {
          "output_type": "stream",
          "name": "stdout",
          "text": [
            "247 µs ± 17.7 µs per loop (mean ± std. dev. of 7 runs, 1000 loops each)\n",
            "89.2 µs ± 14.6 µs per loop (mean ± std. dev. of 7 runs, 10000 loops each)\n"
          ]
        }
      ]
    },
    {
      "cell_type": "code",
      "source": [
        "%timeit np.fft.fft2(B_np)\n",
        "%timeit cp.fft.fft2(B_cp)"
      ],
      "metadata": {
        "colab": {
          "base_uri": "https://localhost:8080/"
        },
        "id": "_uYMl1obGaZx",
        "outputId": "1d8077f3-25ae-4393-bf55-d129150c4751"
      },
      "execution_count": 40,
      "outputs": [
        {
          "output_type": "stream",
          "name": "stdout",
          "text": [
            "1.27 ms ± 234 µs per loop (mean ± std. dev. of 7 runs, 1000 loops each)\n",
            "77.2 µs ± 3.63 µs per loop (mean ± std. dev. of 7 runs, 10000 loops each)\n"
          ]
        }
      ]
    },
    {
      "cell_type": "code",
      "source": [
        "%timeit np.fft.fft2(C_np)\n",
        "%timeit cp.fft.fft2(C_cp)"
      ],
      "metadata": {
        "colab": {
          "base_uri": "https://localhost:8080/"
        },
        "id": "TkLSYzrqGeUm",
        "outputId": "2cda62d7-24f3-46c7-c08c-dd5de8c73a59"
      },
      "execution_count": 41,
      "outputs": [
        {
          "output_type": "stream",
          "name": "stdout",
          "text": [
            "8.41 ms ± 2.6 ms per loop (mean ± std. dev. of 7 runs, 100 loops each)\n",
            "252 µs ± 2.66 µs per loop (mean ± std. dev. of 7 runs, 1000 loops each)\n"
          ]
        }
      ]
    },
    {
      "cell_type": "code",
      "source": [
        "%timeit np.fft.fft2(D_np)\n",
        "%timeit cp.fft.fft2(D_cp)"
      ],
      "metadata": {
        "colab": {
          "base_uri": "https://localhost:8080/"
        },
        "id": "XuOUvqe5GiLG",
        "outputId": "1e9a8b9b-24cd-4ea0-b088-f0ea9a93fa6b"
      },
      "execution_count": 42,
      "outputs": [
        {
          "output_type": "stream",
          "name": "stdout",
          "text": [
            "30.9 ms ± 746 µs per loop (mean ± std. dev. of 7 runs, 10 loops each)\n",
            "1.08 ms ± 1.97 µs per loop (mean ± std. dev. of 7 runs, 1000 loops each)\n"
          ]
        }
      ]
    },
    {
      "cell_type": "code",
      "source": [
        "%timeit np.fft.fft2(E_np)\n",
        "%timeit cp.fft.fft2(E_cp)"
      ],
      "metadata": {
        "colab": {
          "base_uri": "https://localhost:8080/"
        },
        "id": "g3GrezKSGlJV",
        "outputId": "aac496b5-d053-44ba-8a84-e9b47eed2f7a"
      },
      "execution_count": 43,
      "outputs": [
        {
          "output_type": "stream",
          "name": "stdout",
          "text": [
            "178 ms ± 29.5 ms per loop (mean ± std. dev. of 7 runs, 10 loops each)\n",
            "4.09 ms ± 26.2 µs per loop (mean ± std. dev. of 7 runs, 1000 loops each)\n"
          ]
        }
      ]
    },
    {
      "cell_type": "markdown",
      "source": [
        "**Answer:** \\\\\n",
        "Cupy outperforms numpy at every size. However, for larger arrays the difference of of larger order."
      ],
      "metadata": {
        "id": "5gPgMhVUHTpP"
      }
    },
    {
      "cell_type": "code",
      "source": [
        "A_np = np.arange(1, 16385, dtype=np.float32).reshape(128,128)\n",
        "B_np = np.arange(1, 65537, dtype=np.float32).reshape(256,256)\n",
        "C_np = np.arange(1, 262145, dtype=np.float32).reshape(512, 512)\n",
        "D_np = np.arange(1, 1048577, dtype=np.float32).reshape(1024, 1024)\n",
        "E_np = np.arange(1, 4194305, dtype=np.float32).reshape(2048, 2048)\n",
        "\n",
        "A_cp = cp.arange(1, 16385, dtype=cp.float32).reshape(128,128)\n",
        "B_cp = cp.arange(1, 65537, dtype=cp.float32).reshape(256,256)\n",
        "C_cp = cp.arange(1, 262145, dtype=cp.float32).reshape(512, 512)\n",
        "D_cp = cp.arange(1, 1048577, dtype=cp.float32).reshape(1024, 1024)\n",
        "E_cp = cp.arange(1, 4194305, dtype=cp.float32).reshape(2048, 2048)"
      ],
      "metadata": {
        "id": "qdxe8LK1G4Ln"
      },
      "execution_count": 49,
      "outputs": []
    },
    {
      "cell_type": "code",
      "source": [
        "%timeit np.fft.fft2(A_np)\n",
        "%timeit cp.fft.fft2(A_cp)"
      ],
      "metadata": {
        "colab": {
          "base_uri": "https://localhost:8080/"
        },
        "id": "EhhG9J7lIPh1",
        "outputId": "64fd1a9e-199c-432f-afa2-df5f49811fb3"
      },
      "execution_count": 50,
      "outputs": [
        {
          "output_type": "stream",
          "name": "stdout",
          "text": [
            "242 µs ± 12.2 µs per loop (mean ± std. dev. of 7 runs, 1000 loops each)\n",
            "83.8 µs ± 14.8 µs per loop (mean ± std. dev. of 7 runs, 10000 loops each)\n"
          ]
        }
      ]
    },
    {
      "cell_type": "code",
      "source": [],
      "metadata": {
        "id": "WE9di2LAIwcr"
      },
      "execution_count": 50,
      "outputs": []
    },
    {
      "cell_type": "code",
      "source": [
        "%timeit np.fft.fft2(B_np)\n",
        "%timeit cp.fft.fft2(B_cp)"
      ],
      "metadata": {
        "colab": {
          "base_uri": "https://localhost:8080/"
        },
        "id": "4n7VTGb2I7AZ",
        "outputId": "78bf147f-a75c-4ee1-ee8e-9ccba3b9c942"
      },
      "execution_count": 45,
      "outputs": [
        {
          "output_type": "stream",
          "name": "stdout",
          "text": [
            "1.21 ms ± 235 µs per loop (mean ± std. dev. of 7 runs, 1000 loops each)\n",
            "84.7 µs ± 15.9 µs per loop (mean ± std. dev. of 7 runs, 10000 loops each)\n"
          ]
        }
      ]
    },
    {
      "cell_type": "code",
      "source": [
        "%timeit np.fft.fft2(C_np)\n",
        "%timeit cp.fft.fft2(C_cp)"
      ],
      "metadata": {
        "colab": {
          "base_uri": "https://localhost:8080/"
        },
        "id": "PMEnO1K0I7qU",
        "outputId": "2b3f1804-064a-410a-c806-9aee7165acf9"
      },
      "execution_count": 51,
      "outputs": [
        {
          "output_type": "stream",
          "name": "stdout",
          "text": [
            "5.29 ms ± 185 µs per loop (mean ± std. dev. of 7 runs, 100 loops each)\n",
            "82.4 µs ± 12.2 µs per loop (mean ± std. dev. of 7 runs, 10000 loops each)\n"
          ]
        }
      ]
    },
    {
      "cell_type": "code",
      "source": [
        "%timeit np.fft.fft2(D_np)\n",
        "%timeit cp.fft.fft2(D_cp)"
      ],
      "metadata": {
        "colab": {
          "base_uri": "https://localhost:8080/"
        },
        "id": "YSh1nq94I9l-",
        "outputId": "f899eb7e-05cc-4923-a171-cd51cbc3b2bb"
      },
      "execution_count": 52,
      "outputs": [
        {
          "output_type": "stream",
          "name": "stdout",
          "text": [
            "28.3 ms ± 771 µs per loop (mean ± std. dev. of 7 runs, 10 loops each)\n",
            "226 µs ± 466 ns per loop (mean ± std. dev. of 7 runs, 10000 loops each)\n"
          ]
        }
      ]
    },
    {
      "cell_type": "code",
      "source": [
        "%timeit np.fft.fft2(E_np)\n",
        "%timeit cp.fft.fft2(E_cp)"
      ],
      "metadata": {
        "colab": {
          "base_uri": "https://localhost:8080/"
        },
        "id": "DOwu0NSII_sV",
        "outputId": "558f79a3-1950-4064-97c3-ecb594ce4de4"
      },
      "execution_count": 53,
      "outputs": [
        {
          "output_type": "stream",
          "name": "stdout",
          "text": [
            "159 ms ± 9.42 ms per loop (mean ± std. dev. of 7 runs, 10 loops each)\n",
            "960 µs ± 547 ns per loop (mean ± std. dev. of 7 runs, 1000 loops each)\n"
          ]
        }
      ]
    },
    {
      "cell_type": "markdown",
      "source": [
        "**Answer:** \\\\\n",
        "Cupy performs better while numpy's performance is approximately the same."
      ],
      "metadata": {
        "id": "6ucD6FqfJyvP"
      }
    },
    {
      "cell_type": "code",
      "source": [],
      "metadata": {
        "id": "C7gsvOFcJ6y1"
      },
      "execution_count": null,
      "outputs": []
    }
  ]
}